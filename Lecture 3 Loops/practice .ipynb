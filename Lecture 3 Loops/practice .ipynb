{
 "cells": [
  {
   "cell_type": "markdown",
   "id": "17b08569",
   "metadata": {},
   "source": [
    "# Loops Excercise"
   ]
  },
  {
   "cell_type": "markdown",
   "id": "3e98629e",
   "metadata": {},
   "source": [
    "##### Write a Python program to calculate the sum of all numbers from 1 to 10 using a \"for\" loop.\n"
   ]
  },
  {
   "cell_type": "code",
   "execution_count": 3,
   "id": "15759c92",
   "metadata": {},
   "outputs": [
    {
     "name": "stdout",
     "output_type": "stream",
     "text": [
      "total sum is : 55\n"
     ]
    }
   ],
   "source": [
    "summ=0\n",
    "for i in range(1,11):\n",
    "    summ=summ+i\n",
    "    #print(summ)\n",
    "print(\"total sum is :\",summ)\n"
   ]
  },
  {
   "cell_type": "markdown",
   "id": "b5631f29",
   "metadata": {},
   "source": [
    "##### Create a Python program that prints the multiplication table of a given number (e.g., 5) using a \"while\" loop.\n"
   ]
  },
  {
   "cell_type": "code",
   "execution_count": 4,
   "id": "656cbd71",
   "metadata": {},
   "outputs": [
    {
     "name": "stdout",
     "output_type": "stream",
     "text": [
      "5 X 1 = 5\n",
      "5 X 2 = 10\n",
      "5 X 3 = 15\n",
      "5 X 4 = 20\n",
      "5 X 5 = 25\n",
      "5 X 6 = 30\n",
      "5 X 7 = 35\n",
      "5 X 8 = 40\n",
      "5 X 9 = 45\n"
     ]
    }
   ],
   "source": [
    "number=5\n",
    "i=1\n",
    "while i<10:\n",
    "    print (number, \"X\", i,\"=\" , i*number )\n",
    "    i=i+1\n"
   ]
  },
  {
   "cell_type": "markdown",
   "id": "87a45506",
   "metadata": {},
   "source": [
    "##### Write a program that takes a list of names and prints each name with a greeting message using a \"for\" loop.\n"
   ]
  },
  {
   "cell_type": "code",
   "execution_count": 5,
   "id": "79078b33",
   "metadata": {},
   "outputs": [
    {
     "name": "stdout",
     "output_type": "stream",
     "text": [
      "Enter your nameimtiaz \n",
      "Enter your namesajid\n",
      "Enter your namealaudin\n",
      "['imtiaz ', 'sajid', 'alaudin']\n"
     ]
    }
   ],
   "source": [
    "names=[]\n",
    "for i in range(3):\n",
    "    name=input(\"Enter your name\")\n",
    "    names.append(name)\n",
    "print(names)\n",
    "    \n"
   ]
  },
  {
   "cell_type": "code",
   "execution_count": 6,
   "id": "53fffa1c",
   "metadata": {},
   "outputs": [
    {
     "name": "stdout",
     "output_type": "stream",
     "text": [
      "Khoshan gay :  imtiaz \n",
      "Khoshan gay :  sajid\n",
      "Khoshan gay :  alaudin\n"
     ]
    }
   ],
   "source": [
    "for n in names:\n",
    "    print(\"Khoshan gay : \", n )"
   ]
  },
  {
   "cell_type": "markdown",
   "id": "4a0039b9",
   "metadata": {},
   "source": [
    "#### Develop a Python program to find and display the factorial of a given number using a \"while\" loop.\n"
   ]
  },
  {
   "cell_type": "code",
   "execution_count": 7,
   "id": "160c7948",
   "metadata": {},
   "outputs": [
    {
     "name": "stdout",
     "output_type": "stream",
     "text": [
      "6\n"
     ]
    }
   ],
   "source": [
    "number=3\n",
    "\n",
    "fact=1\n",
    "\n",
    "while number>0:\n",
    "    fact=fact*number\n",
    "    number=number-1\n",
    "print(fact)"
   ]
  },
  {
   "cell_type": "code",
   "execution_count": 10,
   "id": "a8bb9f56",
   "metadata": {},
   "outputs": [
    {
     "name": "stdout",
     "output_type": "stream",
     "text": [
      "Enter number to find factorial: 4\n",
      "24\n"
     ]
    }
   ],
   "source": [
    "number=int(input(\"Enter number to find factorial: \"))\n",
    "\n",
    "fact=1\n",
    "\n",
    "while number>0:\n",
    "    fact=fact*number\n",
    "    number=number-1\n",
    "print(fact)"
   ]
  },
  {
   "cell_type": "markdown",
   "id": "c68320ad",
   "metadata": {},
   "source": [
    "#### Create a program that prints the Fibonacci sequence up to the 10th term using a \"for\" loop.\n"
   ]
  },
  {
   "cell_type": "code",
   "execution_count": 11,
   "id": "a53258d3",
   "metadata": {},
   "outputs": [
    {
     "name": "stdout",
     "output_type": "stream",
     "text": [
      "1\n",
      "2\n",
      "3\n",
      "5\n",
      "8\n",
      "13\n",
      "21\n",
      "34\n",
      "55\n",
      "89\n"
     ]
    }
   ],
   "source": [
    "a=0\n",
    "b=1\n",
    "for i in range(10):\n",
    "    summ=a+b\n",
    "    a=b\n",
    "    b=summ\n",
    "    print(summ)\n",
    "    \n",
    "    "
   ]
  },
  {
   "cell_type": "markdown",
   "id": "257c8f70",
   "metadata": {},
   "source": [
    "#### Write a Python program to check if a given number is prime using a \"while\" loop.\n"
   ]
  },
  {
   "cell_type": "code",
   "execution_count": 15,
   "id": "a4decb8f",
   "metadata": {},
   "outputs": [
    {
     "name": "stdout",
     "output_type": "stream",
     "text": [
      "the number 6 : is not prime\n"
     ]
    }
   ],
   "source": [
    "number=6\n",
    "prime=True\n",
    "\n",
    "i=2\n",
    "while i<number:\n",
    "    if number%i==0:\n",
    "        print(\"the number\" ,number,\": is not prime\")\n",
    "        prime=False\n",
    "        break\n",
    "    i=i+1\n",
    "    \n",
    "if prime==True:\n",
    "    print(\"The number\",number ,\"is prime\")\n",
    "\n",
    "\n"
   ]
  },
  {
   "cell_type": "code",
   "execution_count": 17,
   "id": "e16f5e60",
   "metadata": {},
   "outputs": [
    {
     "name": "stdout",
     "output_type": "stream",
     "text": [
      "Please enter the number to be checked 9\n",
      "the number 9 : is not prime\n"
     ]
    }
   ],
   "source": [
    "number=int(input(\"Please enter the number to be checked \"))\n",
    "prime=True\n",
    "\n",
    "i=2\n",
    "while i<number:\n",
    "    if number%i==0:\n",
    "        print(\"the number\" ,number,\": is not prime\")\n",
    "        prime=False\n",
    "        break\n",
    "    i=i+1\n",
    "    \n",
    "if prime==True:\n",
    "    print(\"The number\",number ,\"is prime\")\n",
    "\n",
    "\n"
   ]
  },
  {
   "cell_type": "markdown",
   "id": "1fef7b62",
   "metadata": {},
   "source": [
    "#### Develop a program that iterates through a list of integers and prints only the even numbers using a \"for\" loop.\n"
   ]
  },
  {
   "cell_type": "code",
   "execution_count": 20,
   "id": "34ac5f41",
   "metadata": {},
   "outputs": [
    {
     "name": "stdout",
     "output_type": "stream",
     "text": [
      "4 is even \n",
      "6 is even \n"
     ]
    }
   ],
   "source": [
    "numbers=[9,4,3,5,89,7,6]\n",
    "\n",
    "for i in numbers:\n",
    "    if i%2==0:\n",
    "        print(i,\"is even \")\n",
    "    \n",
    "\n"
   ]
  },
  {
   "cell_type": "markdown",
   "id": "11520e37",
   "metadata": {},
   "source": [
    "#### Develop a program that prints the first 10 square numbers (1, 4, 9, ...) using a \"for\" loop.\n",
    "\n"
   ]
  },
  {
   "cell_type": "code",
   "execution_count": null,
   "id": "49841a1a",
   "metadata": {},
   "outputs": [],
   "source": []
  },
  {
   "cell_type": "markdown",
   "id": "7960a359",
   "metadata": {},
   "source": [
    "#### Create a simple guessing game where the user has to guess a randomly generated number between 1 and 20. Provide hints if the guess is too high or too low, using a \"while\" loop.\n",
    "\n"
   ]
  },
  {
   "cell_type": "code",
   "execution_count": null,
   "id": "843ea72b",
   "metadata": {},
   "outputs": [],
   "source": []
  },
  {
   "cell_type": "markdown",
   "id": "7b4dca2a",
   "metadata": {},
   "source": [
    "#### Write a Python program to count the number of vowels in a given string using a \"for\" loop.\n",
    "\n"
   ]
  },
  {
   "cell_type": "code",
   "execution_count": null,
   "id": "d2a5e01e",
   "metadata": {},
   "outputs": [],
   "source": []
  }
 ],
 "metadata": {
  "kernelspec": {
   "display_name": "Python 3 (ipykernel)",
   "language": "python",
   "name": "python3"
  },
  "language_info": {
   "codemirror_mode": {
    "name": "ipython",
    "version": 3
   },
   "file_extension": ".py",
   "mimetype": "text/x-python",
   "name": "python",
   "nbconvert_exporter": "python",
   "pygments_lexer": "ipython3",
   "version": "3.11.5"
  }
 },
 "nbformat": 4,
 "nbformat_minor": 5
}
